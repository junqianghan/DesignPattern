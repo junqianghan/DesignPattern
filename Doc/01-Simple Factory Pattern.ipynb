{
 "cells": [
  {
   "cell_type": "markdown",
   "metadata": {},
   "source": [
    "# Factory Pattern\n",
    "\n",
    "考虑用一个单独的类来做创造实例的过程,就是工厂. \n",
    "\n",
    "譬如对于一个四则运算的计算器,当每一个运算过程都被定义为一个类,通过一个工厂类来根据运算符控制具体实例化哪个运算类.  \n",
    "\n",
    "这样的话增加一个运算符,不会改变任何一个运算类,只是在工厂类中增加一个将要实例化的类的选项.\n"
   ]
  }
 ],
 "metadata": {
  "kernelspec": {
   "display_name": "Python 2",
   "language": "python",
   "name": "python2"
  },
  "language_info": {
   "codemirror_mode": {
    "name": "ipython",
    "version": 3
   },
   "file_extension": ".py",
   "mimetype": "text/x-python",
   "name": "python",
   "nbconvert_exporter": "python",
   "pygments_lexer": "ipython3",
   "version": "3.5.2"
  }
 },
 "nbformat": 4,
 "nbformat_minor": 2
}
