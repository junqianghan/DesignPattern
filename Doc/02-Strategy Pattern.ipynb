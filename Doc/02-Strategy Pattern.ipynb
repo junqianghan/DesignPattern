{
 "cells": [
  {
   "cell_type": "markdown",
   "metadata": {},
   "source": [
    "# 策略模式\n",
    "\n",
    "面向对象的编程并不是类越多越好,类的划分是为了封装,但分类的基础是抽象,具有相同属性和功能的对象的抽象集合才是类.  \n",
    "\n",
    "策略模式是一种定义一系列算法的方法,从概念上来看,所有算法完成相同的工作,只是实现不同,它可以以相同的方式调用所有的算法,减少了各种算法类与使用算法类之间的耦合.  \n",
    "\n",
    "策略模式的Strategy类层次为Context定义了一系列的可供调用的算法或行为.继承有助于析取出这些算法中的公共功能.    \n",
    "\n",
    "策略模式的优点是简化了单元测试,因为每个算法那都有自己的类,可以通过自己的接口单独测试.\n",
    "  \n",
    "与工厂模式最大的不同是,用户代码只需要知道Strategy类而不需要知道具体的方法类,更大限度的解耦."
   ]
  }
 ],
 "metadata": {
  "kernelspec": {
   "display_name": "Python 2",
   "language": "python",
   "name": "python2"
  },
  "language_info": {
   "codemirror_mode": {
    "name": "ipython",
    "version": 3
   },
   "file_extension": ".py",
   "mimetype": "text/x-python",
   "name": "python",
   "nbconvert_exporter": "python",
   "pygments_lexer": "ipython3",
   "version": "3.5.2"
  }
 },
 "nbformat": 4,
 "nbformat_minor": 2
}
